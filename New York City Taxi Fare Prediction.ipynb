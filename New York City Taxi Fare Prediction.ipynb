{
 "cells": [
  {
   "cell_type": "markdown",
   "id": "4a5b7497",
   "metadata": {},
   "source": [
    "# Part1. Data import and preliminary analysis"
   ]
  },
  {
   "cell_type": "code",
   "execution_count": 1,
   "id": "0decb8ac",
   "metadata": {},
   "outputs": [
    {
     "data": {
      "text/html": [
       "<div>\n",
       "<style scoped>\n",
       "    .dataframe tbody tr th:only-of-type {\n",
       "        vertical-align: middle;\n",
       "    }\n",
       "\n",
       "    .dataframe tbody tr th {\n",
       "        vertical-align: top;\n",
       "    }\n",
       "\n",
       "    .dataframe thead th {\n",
       "        text-align: right;\n",
       "    }\n",
       "</style>\n",
       "<table border=\"1\" class=\"dataframe\">\n",
       "  <thead>\n",
       "    <tr style=\"text-align: right;\">\n",
       "      <th></th>\n",
       "      <th>key</th>\n",
       "      <th>fare_amount</th>\n",
       "      <th>pickup_datetime</th>\n",
       "      <th>pickup_longitude</th>\n",
       "      <th>pickup_latitude</th>\n",
       "      <th>dropoff_longitude</th>\n",
       "      <th>dropoff_latitude</th>\n",
       "      <th>passenger_count</th>\n",
       "    </tr>\n",
       "  </thead>\n",
       "  <tbody>\n",
       "    <tr>\n",
       "      <th>0</th>\n",
       "      <td>2009-06-15 17:26:21.0000001</td>\n",
       "      <td>4.5</td>\n",
       "      <td>2009-06-15 17:26:21 UTC</td>\n",
       "      <td>-73.844311</td>\n",
       "      <td>40.721319</td>\n",
       "      <td>-73.841610</td>\n",
       "      <td>40.712278</td>\n",
       "      <td>1</td>\n",
       "    </tr>\n",
       "    <tr>\n",
       "      <th>1</th>\n",
       "      <td>2010-01-05 16:52:16.0000002</td>\n",
       "      <td>16.9</td>\n",
       "      <td>2010-01-05 16:52:16 UTC</td>\n",
       "      <td>-74.016048</td>\n",
       "      <td>40.711303</td>\n",
       "      <td>-73.979268</td>\n",
       "      <td>40.782004</td>\n",
       "      <td>1</td>\n",
       "    </tr>\n",
       "    <tr>\n",
       "      <th>2</th>\n",
       "      <td>2011-08-18 00:35:00.00000049</td>\n",
       "      <td>5.7</td>\n",
       "      <td>2011-08-18 00:35:00 UTC</td>\n",
       "      <td>-73.982738</td>\n",
       "      <td>40.761270</td>\n",
       "      <td>-73.991242</td>\n",
       "      <td>40.750562</td>\n",
       "      <td>2</td>\n",
       "    </tr>\n",
       "    <tr>\n",
       "      <th>3</th>\n",
       "      <td>2012-04-21 04:30:42.0000001</td>\n",
       "      <td>7.7</td>\n",
       "      <td>2012-04-21 04:30:42 UTC</td>\n",
       "      <td>-73.987130</td>\n",
       "      <td>40.733143</td>\n",
       "      <td>-73.991567</td>\n",
       "      <td>40.758092</td>\n",
       "      <td>1</td>\n",
       "    </tr>\n",
       "    <tr>\n",
       "      <th>4</th>\n",
       "      <td>2010-03-09 07:51:00.000000135</td>\n",
       "      <td>5.3</td>\n",
       "      <td>2010-03-09 07:51:00 UTC</td>\n",
       "      <td>-73.968095</td>\n",
       "      <td>40.768008</td>\n",
       "      <td>-73.956655</td>\n",
       "      <td>40.783762</td>\n",
       "      <td>1</td>\n",
       "    </tr>\n",
       "  </tbody>\n",
       "</table>\n",
       "</div>"
      ],
      "text/plain": [
       "                             key  fare_amount          pickup_datetime  \\\n",
       "0    2009-06-15 17:26:21.0000001          4.5  2009-06-15 17:26:21 UTC   \n",
       "1    2010-01-05 16:52:16.0000002         16.9  2010-01-05 16:52:16 UTC   \n",
       "2   2011-08-18 00:35:00.00000049          5.7  2011-08-18 00:35:00 UTC   \n",
       "3    2012-04-21 04:30:42.0000001          7.7  2012-04-21 04:30:42 UTC   \n",
       "4  2010-03-09 07:51:00.000000135          5.3  2010-03-09 07:51:00 UTC   \n",
       "\n",
       "   pickup_longitude  pickup_latitude  dropoff_longitude  dropoff_latitude  \\\n",
       "0        -73.844311        40.721319         -73.841610         40.712278   \n",
       "1        -74.016048        40.711303         -73.979268         40.782004   \n",
       "2        -73.982738        40.761270         -73.991242         40.750562   \n",
       "3        -73.987130        40.733143         -73.991567         40.758092   \n",
       "4        -73.968095        40.768008         -73.956655         40.783762   \n",
       "\n",
       "   passenger_count  \n",
       "0                1  \n",
       "1                1  \n",
       "2                2  \n",
       "3                1  \n",
       "4                1  "
      ]
     },
     "execution_count": 1,
     "metadata": {},
     "output_type": "execute_result"
    }
   ],
   "source": [
    "import numpy as np\n",
    "import pandas as pd\n",
    "import matplotlib.pyplot as plt\n",
    "import seaborn as sns\n",
    "\n",
    "train = pd.read_csv('train.csv',nrows=5000000)\n",
    "test = pd.read_csv('test.csv')\n",
    "test_ids = test['key']\n",
    "\n",
    "train.head()"
   ]
  },
  {
   "cell_type": "code",
   "execution_count": 2,
   "id": "afe9cdf8",
   "metadata": {},
   "outputs": [
    {
     "name": "stdout",
     "output_type": "stream",
     "text": [
      "<class 'pandas.core.frame.DataFrame'>\n",
      "RangeIndex: 5000000 entries, 0 to 4999999\n",
      "Data columns (total 8 columns):\n",
      " #   Column             Dtype  \n",
      "---  ------             -----  \n",
      " 0   key                object \n",
      " 1   fare_amount        float64\n",
      " 2   pickup_datetime    object \n",
      " 3   pickup_longitude   float64\n",
      " 4   pickup_latitude    float64\n",
      " 5   dropoff_longitude  float64\n",
      " 6   dropoff_latitude   float64\n",
      " 7   passenger_count    int64  \n",
      "dtypes: float64(5), int64(1), object(2)\n",
      "memory usage: 305.2+ MB\n"
     ]
    }
   ],
   "source": [
    "train.info()"
   ]
  },
  {
   "cell_type": "code",
   "execution_count": 3,
   "id": "c33ca4ec",
   "metadata": {},
   "outputs": [
    {
     "data": {
      "text/html": [
       "<div>\n",
       "<style scoped>\n",
       "    .dataframe tbody tr th:only-of-type {\n",
       "        vertical-align: middle;\n",
       "    }\n",
       "\n",
       "    .dataframe tbody tr th {\n",
       "        vertical-align: top;\n",
       "    }\n",
       "\n",
       "    .dataframe thead th {\n",
       "        text-align: right;\n",
       "    }\n",
       "</style>\n",
       "<table border=\"1\" class=\"dataframe\">\n",
       "  <thead>\n",
       "    <tr style=\"text-align: right;\">\n",
       "      <th></th>\n",
       "      <th>fare_amount</th>\n",
       "      <th>pickup_longitude</th>\n",
       "      <th>pickup_latitude</th>\n",
       "      <th>dropoff_longitude</th>\n",
       "      <th>dropoff_latitude</th>\n",
       "      <th>passenger_count</th>\n",
       "    </tr>\n",
       "  </thead>\n",
       "  <tbody>\n",
       "    <tr>\n",
       "      <th>count</th>\n",
       "      <td>5.000000e+06</td>\n",
       "      <td>5.000000e+06</td>\n",
       "      <td>5.000000e+06</td>\n",
       "      <td>4.999964e+06</td>\n",
       "      <td>4.999964e+06</td>\n",
       "      <td>5.000000e+06</td>\n",
       "    </tr>\n",
       "    <tr>\n",
       "      <th>mean</th>\n",
       "      <td>1.134080e+01</td>\n",
       "      <td>-7.250678e+01</td>\n",
       "      <td>3.991974e+01</td>\n",
       "      <td>-7.250652e+01</td>\n",
       "      <td>3.991725e+01</td>\n",
       "      <td>1.684695e+00</td>\n",
       "    </tr>\n",
       "    <tr>\n",
       "      <th>std</th>\n",
       "      <td>9.820175e+00</td>\n",
       "      <td>1.280970e+01</td>\n",
       "      <td>8.963509e+00</td>\n",
       "      <td>1.284777e+01</td>\n",
       "      <td>9.486767e+00</td>\n",
       "      <td>1.331854e+00</td>\n",
       "    </tr>\n",
       "    <tr>\n",
       "      <th>min</th>\n",
       "      <td>-1.000000e+02</td>\n",
       "      <td>-3.426609e+03</td>\n",
       "      <td>-3.488080e+03</td>\n",
       "      <td>-3.412653e+03</td>\n",
       "      <td>-3.488080e+03</td>\n",
       "      <td>0.000000e+00</td>\n",
       "    </tr>\n",
       "    <tr>\n",
       "      <th>25%</th>\n",
       "      <td>6.000000e+00</td>\n",
       "      <td>-7.399206e+01</td>\n",
       "      <td>4.073491e+01</td>\n",
       "      <td>-7.399139e+01</td>\n",
       "      <td>4.073404e+01</td>\n",
       "      <td>1.000000e+00</td>\n",
       "    </tr>\n",
       "    <tr>\n",
       "      <th>50%</th>\n",
       "      <td>8.500000e+00</td>\n",
       "      <td>-7.398181e+01</td>\n",
       "      <td>4.075263e+01</td>\n",
       "      <td>-7.398016e+01</td>\n",
       "      <td>4.075315e+01</td>\n",
       "      <td>1.000000e+00</td>\n",
       "    </tr>\n",
       "    <tr>\n",
       "      <th>75%</th>\n",
       "      <td>1.250000e+01</td>\n",
       "      <td>-7.396711e+01</td>\n",
       "      <td>4.076711e+01</td>\n",
       "      <td>-7.396367e+01</td>\n",
       "      <td>4.076811e+01</td>\n",
       "      <td>2.000000e+00</td>\n",
       "    </tr>\n",
       "    <tr>\n",
       "      <th>max</th>\n",
       "      <td>1.273310e+03</td>\n",
       "      <td>3.439426e+03</td>\n",
       "      <td>3.310364e+03</td>\n",
       "      <td>3.457622e+03</td>\n",
       "      <td>3.345917e+03</td>\n",
       "      <td>2.080000e+02</td>\n",
       "    </tr>\n",
       "  </tbody>\n",
       "</table>\n",
       "</div>"
      ],
      "text/plain": [
       "        fare_amount  pickup_longitude  pickup_latitude  dropoff_longitude  \\\n",
       "count  5.000000e+06      5.000000e+06     5.000000e+06       4.999964e+06   \n",
       "mean   1.134080e+01     -7.250678e+01     3.991974e+01      -7.250652e+01   \n",
       "std    9.820175e+00      1.280970e+01     8.963509e+00       1.284777e+01   \n",
       "min   -1.000000e+02     -3.426609e+03    -3.488080e+03      -3.412653e+03   \n",
       "25%    6.000000e+00     -7.399206e+01     4.073491e+01      -7.399139e+01   \n",
       "50%    8.500000e+00     -7.398181e+01     4.075263e+01      -7.398016e+01   \n",
       "75%    1.250000e+01     -7.396711e+01     4.076711e+01      -7.396367e+01   \n",
       "max    1.273310e+03      3.439426e+03     3.310364e+03       3.457622e+03   \n",
       "\n",
       "       dropoff_latitude  passenger_count  \n",
       "count      4.999964e+06     5.000000e+06  \n",
       "mean       3.991725e+01     1.684695e+00  \n",
       "std        9.486767e+00     1.331854e+00  \n",
       "min       -3.488080e+03     0.000000e+00  \n",
       "25%        4.073404e+01     1.000000e+00  \n",
       "50%        4.075315e+01     1.000000e+00  \n",
       "75%        4.076811e+01     2.000000e+00  \n",
       "max        3.345917e+03     2.080000e+02  "
      ]
     },
     "execution_count": 3,
     "metadata": {},
     "output_type": "execute_result"
    }
   ],
   "source": [
    "train.describe()"
   ]
  },
  {
   "cell_type": "markdown",
   "id": "ae356669",
   "metadata": {},
   "source": [
    "Outliers: negative prices, minimum number of passengers 0, maximum number of passengers 208"
   ]
  },
  {
   "cell_type": "markdown",
   "id": "65e32118",
   "metadata": {},
   "source": [
    "# Part2. Data Analysis"
   ]
  },
  {
   "cell_type": "markdown",
   "id": "6978a01a",
   "metadata": {},
   "source": [
    "First look at the distribution of price characteristics"
   ]
  },
  {
   "cell_type": "code",
   "execution_count": 4,
   "id": "d1e86a99",
   "metadata": {},
   "outputs": [
    {
     "data": {
      "text/plain": [
       "Text(0, 0.5, 'Frequency')"
      ]
     },
     "execution_count": 4,
     "metadata": {},
     "output_type": "execute_result"
    },
    {
     "data": {
      "image/png": "[encoded data removed]",
      "text/plain": [
       "<Figure size 1152x576 with 1 Axes>"
      ]
     },
     "metadata": {
      "needs_background": "light"
     },
     "output_type": "display_data"
    }
   ],
   "source": [
    "train.fare_amount.hist(bins=100,figsize = (16,8))\n",
    "plt.xlabel(\"Fare Amount\")\n",
    "plt.ylabel(\"Frequency\")"
   ]
  },
  {
   "cell_type": "code",
   "execution_count": 5,
   "id": "f8ddcdd8",
   "metadata": {},
   "outputs": [
    {
     "data": {
      "text/plain": [
       "Text(0, 0.5, 'Frequency')"
      ]
     },
     "execution_count": 5,
     "metadata": {},
     "output_type": "execute_result"
    },
    {
     "data": {
      "image/png": "[encoded data removed]",
      "text/plain": [
       "<Figure size 1152x576 with 1 Axes>"
      ]
     },
     "metadata": {
      "needs_background": "light"
     },
     "output_type": "display_data"
    }
   ],
   "source": [
    "train[train.fare_amount <100 ].fare_amount.hist(bins=100, figsize = (16,8))\n",
    "plt.xlabel(\"Fare Amount\")\n",
    "plt.ylabel(\"Frequency\")"
   ]
  },
  {
   "cell_type": "code",
   "execution_count": 6,
   "id": "96685b3e",
   "metadata": {},
   "outputs": [
    {
     "data": {
      "text/plain": [
       "Text(0, 0.5, 'Frequency')"
      ]
     },
     "execution_count": 6,
     "metadata": {},
     "output_type": "execute_result"
    },
    {
     "data": {
      "image/png": "[encoded data removed]",
      "text/plain": [
       "<Figure size 1152x576 with 1 Axes>"
      ]
     },
     "metadata": {
      "needs_background": "light"
     },
     "output_type": "display_data"
    }
   ],
   "source": [
    "train[train.fare_amount >=100 ].fare_amount.hist(bins=100, figsize = (16,8))\n",
    "plt.xlabel(\"Fare Amount\")\n",
    "plt.ylabel(\"Frequency\")"
   ]
  },
  {
   "cell_type": "code",
   "execution_count": 8,
   "id": "73d13b0e",
   "metadata": {},
   "outputs": [
    {
     "data": {
      "text/plain": [
       "(4997855, 8)"
      ]
     },
     "execution_count": 8,
     "metadata": {},
     "output_type": "execute_result"
    }
   ],
   "source": [
    "train[train.fare_amount <100].shape"
   ]
  },
  {
   "cell_type": "code",
   "execution_count": 9,
   "id": "8185549f",
   "metadata": {},
   "outputs": [
    {
     "data": {
      "text/plain": [
       "(2145, 8)"
      ]
     },
     "execution_count": 9,
     "metadata": {},
     "output_type": "execute_result"
    }
   ],
   "source": [
    "train[train.fare_amount >=100].shape"
   ]
  },
  {
   "cell_type": "markdown",
   "id": "b7d7b672",
   "metadata": {},
   "source": [
    "Conclusion:\n",
    "1. Most of the price distribution is within 100, and a small part is above 100\n",
    "\n",
    "2. Prices within 100 are mostly concentrated between 0 and 20\n",
    "\n",
    "3. Prices beyond 100 are mostly concentrated around 200, and a few relatively large prices may be outliers or prices to the airport."
   ]
  },
  {
   "cell_type": "markdown",
   "id": "32923464",
   "metadata": {},
   "source": [
    "Observe the distribution of the number of passengers:"
   ]
  },
  {
   "cell_type": "code",
   "execution_count": 10,
   "id": "4a57c16a",
   "metadata": {},
   "outputs": [
    {
     "data": {
      "text/plain": [
       "Text(0, 0.5, 'Frequency')"
      ]
     },
     "execution_count": 10,
     "metadata": {},
     "output_type": "execute_result"
    },
    {
     "data": {
      "image/png": "[encoded data removed]",
      "text/plain": [
       "<Figure size 1152x576 with 1 Axes>"
      ]
     },
     "metadata": {
      "needs_background": "light"
     },
     "output_type": "display_data"
    }
   ],
   "source": [
    "train.passenger_count.hist(bins=100,figsize = (16,8))\n",
    "plt.xlabel(\"passenger_count\")\n",
    "plt.ylabel(\"Frequency\")"
   ]
  },
  {
   "cell_type": "code",
   "execution_count": 11,
   "id": "e1b9814b",
   "metadata": {},
   "outputs": [
    {
     "data": {
      "text/plain": [
       "Text(0, 0.5, 'Frequency')"
      ]
     },
     "execution_count": 11,
     "metadata": {},
     "output_type": "execute_result"
    },
    {
     "data": {
      "image/png": "[encoded data removed]",
      "text/plain": [
       "<Figure size 1152x576 with 1 Axes>"
      ]
     },
     "metadata": {
      "needs_background": "light"
     },
     "output_type": "display_data"
    }
   ],
   "source": [
    "train[train.passenger_count<10].passenger_count.hist(bins=10,figsize = (16,8))\n",
    "plt.xlabel(\"passenger_count\")\n",
    "plt.ylabel(\"Frequency\")"
   ]
  },
  {
   "cell_type": "code",
   "execution_count": 12,
   "id": "df5589d8",
   "metadata": {},
   "outputs": [
    {
     "data": {
      "text/plain": [
       "Text(0, 0.5, 'Frequency')"
      ]
     },
     "execution_count": 12,
     "metadata": {},
     "output_type": "execute_result"
    },
    {
     "data": {
      "image/png": "[encoded data removed]",
      "text/plain": [
       "<Figure size 1152x576 with 1 Axes>"
      ]
     },
     "metadata": {
      "needs_background": "light"
     },
     "output_type": "display_data"
    }
   ],
   "source": [
    "train[train.passenger_count<7].passenger_count.hist(bins=10,figsize = (16,8))\n",
    "plt.xlabel(\"passenger_count\")\n",
    "plt.ylabel(\"Frequency\")"
   ]
  },
  {
   "cell_type": "code",
   "execution_count": 13,
   "id": "45c29d05",
   "metadata": {},
   "outputs": [
    {
     "data": {
      "text/plain": [
       "Text(0, 0.5, 'Frequency')"
      ]
     },
     "execution_count": 13,
     "metadata": {},
     "output_type": "execute_result"
    },
    {
     "data": {
      "image/png": "[encoded data removed]",
      "text/plain": [
       "<Figure size 1152x576 with 1 Axes>"
      ]
     },
     "metadata": {
      "needs_background": "light"
     },
     "output_type": "display_data"
    }
   ],
   "source": [
    "train[train.passenger_count>7].passenger_count.hist(bins=10,figsize = (16,8))\n",
    "plt.xlabel(\"passenger_count\")\n",
    "plt.ylabel(\"Frequency\")"
   ]
  },
  {
   "cell_type": "code",
   "execution_count": 14,
   "id": "d6a4e366",
   "metadata": {},
   "outputs": [
    {
     "data": {
      "text/html": [
       "<div>\n",
       "<style scoped>\n",
       "    .dataframe tbody tr th:only-of-type {\n",
       "        vertical-align: middle;\n",
       "    }\n",
       "\n",
       "    .dataframe tbody tr th {\n",
       "        vertical-align: top;\n",
       "    }\n",
       "\n",
       "    .dataframe thead th {\n",
       "        text-align: right;\n",
       "    }\n",
       "</style>\n",
       "<table border=\"1\" class=\"dataframe\">\n",
       "  <thead>\n",
       "    <tr style=\"text-align: right;\">\n",
       "      <th></th>\n",
       "      <th>key</th>\n",
       "      <th>fare_amount</th>\n",
       "      <th>pickup_datetime</th>\n",
       "      <th>pickup_longitude</th>\n",
       "      <th>pickup_latitude</th>\n",
       "      <th>dropoff_longitude</th>\n",
       "      <th>dropoff_latitude</th>\n",
       "      <th>passenger_count</th>\n",
       "    </tr>\n",
       "  </thead>\n",
       "  <tbody>\n",
       "    <tr>\n",
       "      <th>929022</th>\n",
       "      <td>2009-07-30 11:54:00.000000193</td>\n",
       "      <td>3.30</td>\n",
       "      <td>2009-07-30 11:54:00 UTC</td>\n",
       "      <td>0.000000</td>\n",
       "      <td>0.000000</td>\n",
       "      <td>0.000000</td>\n",
       "      <td>0.000000</td>\n",
       "      <td>208</td>\n",
       "    </tr>\n",
       "    <tr>\n",
       "      <th>1007609</th>\n",
       "      <td>2014-06-24 15:13:00.00000040</td>\n",
       "      <td>104.00</td>\n",
       "      <td>2014-06-24 15:13:00 UTC</td>\n",
       "      <td>-74.015780</td>\n",
       "      <td>40.715420</td>\n",
       "      <td>-74.170280</td>\n",
       "      <td>40.708340</td>\n",
       "      <td>9</td>\n",
       "    </tr>\n",
       "    <tr>\n",
       "      <th>2154045</th>\n",
       "      <td>2010-12-16 11:21:00.000000209</td>\n",
       "      <td>3.30</td>\n",
       "      <td>2010-12-16 11:21:00 UTC</td>\n",
       "      <td>0.000000</td>\n",
       "      <td>0.000000</td>\n",
       "      <td>0.000000</td>\n",
       "      <td>0.000000</td>\n",
       "      <td>208</td>\n",
       "    </tr>\n",
       "    <tr>\n",
       "      <th>2198549</th>\n",
       "      <td>2010-12-15 14:20:00.00000010</td>\n",
       "      <td>3.30</td>\n",
       "      <td>2010-12-15 14:20:00 UTC</td>\n",
       "      <td>0.000000</td>\n",
       "      <td>0.000000</td>\n",
       "      <td>0.000000</td>\n",
       "      <td>0.000000</td>\n",
       "      <td>208</td>\n",
       "    </tr>\n",
       "    <tr>\n",
       "      <th>2910347</th>\n",
       "      <td>2010-12-16 06:44:00.00000039</td>\n",
       "      <td>4.50</td>\n",
       "      <td>2010-12-16 06:44:00 UTC</td>\n",
       "      <td>0.000000</td>\n",
       "      <td>0.000000</td>\n",
       "      <td>0.000000</td>\n",
       "      <td>0.000000</td>\n",
       "      <td>208</td>\n",
       "    </tr>\n",
       "    <tr>\n",
       "      <th>3107489</th>\n",
       "      <td>2009-05-12 14:50:00.000000175</td>\n",
       "      <td>2.70</td>\n",
       "      <td>2009-05-12 14:50:00 UTC</td>\n",
       "      <td>-73.937818</td>\n",
       "      <td>40.758260</td>\n",
       "      <td>-73.937827</td>\n",
       "      <td>40.758250</td>\n",
       "      <td>208</td>\n",
       "    </tr>\n",
       "    <tr>\n",
       "      <th>3323791</th>\n",
       "      <td>2011-08-27 01:24:00.000000168</td>\n",
       "      <td>8.50</td>\n",
       "      <td>2011-08-27 01:24:00 UTC</td>\n",
       "      <td>-73.987858</td>\n",
       "      <td>40.760340</td>\n",
       "      <td>-74.000682</td>\n",
       "      <td>40.752413</td>\n",
       "      <td>129</td>\n",
       "    </tr>\n",
       "    <tr>\n",
       "      <th>4095440</th>\n",
       "      <td>2015-06-14 08:56:16.0000001</td>\n",
       "      <td>37.04</td>\n",
       "      <td>2015-06-14 08:56:16 UTC</td>\n",
       "      <td>-73.982094</td>\n",
       "      <td>40.756252</td>\n",
       "      <td>-73.872482</td>\n",
       "      <td>40.774506</td>\n",
       "      <td>9</td>\n",
       "    </tr>\n",
       "    <tr>\n",
       "      <th>4103745</th>\n",
       "      <td>2010-12-22 12:11:00.000000230</td>\n",
       "      <td>23.70</td>\n",
       "      <td>2010-12-22 12:11:00 UTC</td>\n",
       "      <td>0.000000</td>\n",
       "      <td>0.000000</td>\n",
       "      <td>0.000000</td>\n",
       "      <td>0.000000</td>\n",
       "      <td>208</td>\n",
       "    </tr>\n",
       "    <tr>\n",
       "      <th>4432483</th>\n",
       "      <td>2009-05-11 13:56:00.00000088</td>\n",
       "      <td>11.10</td>\n",
       "      <td>2009-05-11 13:56:00 UTC</td>\n",
       "      <td>-73.937733</td>\n",
       "      <td>40.758267</td>\n",
       "      <td>-73.937737</td>\n",
       "      <td>40.758273</td>\n",
       "      <td>208</td>\n",
       "    </tr>\n",
       "    <tr>\n",
       "      <th>4679603</th>\n",
       "      <td>2010-02-20 01:53:00.00000037</td>\n",
       "      <td>9.30</td>\n",
       "      <td>2010-02-20 01:53:00 UTC</td>\n",
       "      <td>0.554830</td>\n",
       "      <td>0.000000</td>\n",
       "      <td>-2069.478952</td>\n",
       "      <td>28.121107</td>\n",
       "      <td>51</td>\n",
       "    </tr>\n",
       "  </tbody>\n",
       "</table>\n",
       "</div>"
      ],
      "text/plain": [
       "                                   key  fare_amount          pickup_datetime  \\\n",
       "929022   2009-07-30 11:54:00.000000193         3.30  2009-07-30 11:54:00 UTC   \n",
       "1007609   2014-06-24 15:13:00.00000040       104.00  2014-06-24 15:13:00 UTC   \n",
       "2154045  2010-12-16 11:21:00.000000209         3.30  2010-12-16 11:21:00 UTC   \n",
       "2198549   2010-12-15 14:20:00.00000010         3.30  2010-12-15 14:20:00 UTC   \n",
       "2910347   2010-12-16 06:44:00.00000039         4.50  2010-12-16 06:44:00 UTC   \n",
       "3107489  2009-05-12 14:50:00.000000175         2.70  2009-05-12 14:50:00 UTC   \n",
       "3323791  2011-08-27 01:24:00.000000168         8.50  2011-08-27 01:24:00 UTC   \n",
       "4095440    2015-06-14 08:56:16.0000001        37.04  2015-06-14 08:56:16 UTC   \n",
       "4103745  2010-12-22 12:11:00.000000230        23.70  2010-12-22 12:11:00 UTC   \n",
       "4432483   2009-05-11 13:56:00.00000088        11.10  2009-05-11 13:56:00 UTC   \n",
       "4679603   2010-02-20 01:53:00.00000037         9.30  2010-02-20 01:53:00 UTC   \n",
       "\n",
       "         pickup_longitude  pickup_latitude  dropoff_longitude  \\\n",
       "929022           0.000000         0.000000           0.000000   \n",
       "1007609        -74.015780        40.715420         -74.170280   \n",
       "2154045          0.000000         0.000000           0.000000   \n",
       "2198549          0.000000         0.000000           0.000000   \n",
       "2910347          0.000000         0.000000           0.000000   \n",
       "3107489        -73.937818        40.758260         -73.937827   \n",
       "3323791        -73.987858        40.760340         -74.000682   \n",
       "4095440        -73.982094        40.756252         -73.872482   \n",
       "4103745          0.000000         0.000000           0.000000   \n",
       "4432483        -73.937733        40.758267         -73.937737   \n",
       "4679603          0.554830         0.000000       -2069.478952   \n",
       "\n",
       "         dropoff_latitude  passenger_count  \n",
       "929022           0.000000              208  \n",
       "1007609         40.708340                9  \n",
       "2154045          0.000000              208  \n",
       "2198549          0.000000              208  \n",
       "2910347          0.000000              208  \n",
       "3107489         40.758250              208  \n",
       "3323791         40.752413              129  \n",
       "4095440         40.774506                9  \n",
       "4103745          0.000000              208  \n",
       "4432483         40.758273              208  \n",
       "4679603         28.121107               51  "
      ]
     },
     "execution_count": 14,
     "metadata": {},
     "output_type": "execute_result"
    }
   ],
   "source": [
    "train[train.passenger_count >7]"
   ]
  },
  {
   "cell_type": "code",
   "execution_count": 15,
   "id": "4094ad5c",
   "metadata": {},
   "outputs": [
    {
     "data": {
      "text/plain": [
       "(17639, 8)"
      ]
     },
     "execution_count": 15,
     "metadata": {},
     "output_type": "execute_result"
    }
   ],
   "source": [
    "train[train.passenger_count ==0].shape"
   ]
  },
  {
   "cell_type": "code",
   "execution_count": 16,
   "id": "96203fb0",
   "metadata": {},
   "outputs": [
    {
     "data": {
      "text/plain": [
       "<AxesSubplot:xlabel='passenger_count', ylabel='fare_amount'>"
      ]
     },
     "execution_count": 16,
     "metadata": {},
     "output_type": "execute_result"
    },
    {
     "data": {
      "image/png": "[encoded data removed]",
      "text/plain": [
       "<Figure size 1152x576 with 1 Axes>"
      ]
     },
     "metadata": {
      "needs_background": "light"
     },
     "output_type": "display_data"
    }
   ],
   "source": [
    "plt.figure(figsize= (16,8))\n",
    "sns.boxplot(x = train[train.passenger_count< 7].passenger_count, y = train.fare_amount)"
   ]
  },
  {
   "cell_type": "code",
   "execution_count": 17,
   "id": "8b09599d",
   "metadata": {},
   "outputs": [
    {
     "data": {
      "text/html": [
       "<div>\n",
       "<style scoped>\n",
       "    .dataframe tbody tr th:only-of-type {\n",
       "        vertical-align: middle;\n",
       "    }\n",
       "\n",
       "    .dataframe tbody tr th {\n",
       "        vertical-align: top;\n",
       "    }\n",
       "\n",
       "    .dataframe thead th {\n",
       "        text-align: right;\n",
       "    }\n",
       "</style>\n",
       "<table border=\"1\" class=\"dataframe\">\n",
       "  <thead>\n",
       "    <tr style=\"text-align: right;\">\n",
       "      <th></th>\n",
       "      <th>fare_amount</th>\n",
       "      <th>passenger_count</th>\n",
       "    </tr>\n",
       "  </thead>\n",
       "  <tbody>\n",
       "    <tr>\n",
       "      <th>fare_amount</th>\n",
       "      <td>1.000000</td>\n",
       "      <td>0.013199</td>\n",
       "    </tr>\n",
       "    <tr>\n",
       "      <th>passenger_count</th>\n",
       "      <td>0.013199</td>\n",
       "      <td>1.000000</td>\n",
       "    </tr>\n",
       "  </tbody>\n",
       "</table>\n",
       "</div>"
      ],
      "text/plain": [
       "                 fare_amount  passenger_count\n",
       "fare_amount         1.000000         0.013199\n",
       "passenger_count     0.013199         1.000000"
      ]
     },
     "execution_count": 17,
     "metadata": {},
     "output_type": "execute_result"
    }
   ],
   "source": [
    "train[train.passenger_count <7][['fare_amount','passenger_count']].corr()"
   ]
  },
  {
   "cell_type": "markdown",
   "id": "f8164ad0",
   "metadata": {},
   "source": [
    "Conclusion:\n",
    "1. The distribution of the number of people is mostly within 7 and a small part is outside 7\n",
    "\n",
    "2. Most of the data coordinates in the data with the number of people other than 7 are missing and the number of people is 208\n",
    "\n",
    "3. There are 17,639 data that the number of passengers is 0, it may be a taxi that transports goods, or it may be missing data\n",
    "\n",
    "4. It can be seen from the box chart that the average price of taxis with fewer than 7 people is relatively close\n",
    "\n",
    "5. Use the .corr() interface to check the correlation between passenger_count and fare_amount is not high, only 0.013"
   ]
  },
  {
   "cell_type": "markdown",
   "id": "b4654596",
   "metadata": {},
   "source": [
    "# Part3. Data processing"
   ]
  },
  {
   "cell_type": "markdown",
   "id": "41ce83a8",
   "metadata": {},
   "source": [
    "1. Null value processing"
   ]
  },
  {
   "cell_type": "code",
   "execution_count": 18,
   "id": "c6b7c6fe",
   "metadata": {},
   "outputs": [
    {
     "data": {
      "text/plain": [
       "key                   0\n",
       "fare_amount           0\n",
       "pickup_datetime       0\n",
       "pickup_longitude      0\n",
       "pickup_latitude       0\n",
       "dropoff_longitude    36\n",
       "dropoff_latitude     36\n",
       "passenger_count       0\n",
       "dtype: int64"
      ]
     },
     "execution_count": 18,
     "metadata": {},
     "output_type": "execute_result"
    }
   ],
   "source": [
    "train.isnull().sum()"
   ]
  },
  {
   "cell_type": "code",
   "execution_count": 19,
   "id": "f0180f20",
   "metadata": {},
   "outputs": [],
   "source": [
    "# just drop them\n",
    "train = train.dropna(how='any', axis=0)"
   ]
  },
  {
   "cell_type": "code",
   "execution_count": 20,
   "id": "854a0586",
   "metadata": {},
   "outputs": [
    {
     "data": {
      "text/plain": [
       "key                  0\n",
       "pickup_datetime      0\n",
       "pickup_longitude     0\n",
       "pickup_latitude      0\n",
       "dropoff_longitude    0\n",
       "dropoff_latitude     0\n",
       "passenger_count      0\n",
       "dtype: int64"
      ]
     },
     "execution_count": 20,
     "metadata": {},
     "output_type": "execute_result"
    }
   ],
   "source": [
    "test = pd.read_csv('test.csv')\n",
    "test_ids = test['key']\n",
    "test.isnull().sum()"
   ]
  },
  {
   "cell_type": "markdown",
   "id": "ef6c7e1d",
   "metadata": {},
   "source": [
    "2. Outlier processing"
   ]
  },
  {
   "cell_type": "code",
   "execution_count": 21,
   "id": "81b101a8",
   "metadata": {},
   "outputs": [],
   "source": [
    "#Remove data with negative prices\n",
    "train = train[train.fare_amount>=0]"
   ]
  },
  {
   "cell_type": "markdown",
   "id": "6a5158c0",
   "metadata": {},
   "source": [
    "3. Feature engineering"
   ]
  },
  {
   "cell_type": "markdown",
   "id": "f4f77da4",
   "metadata": {},
   "source": [
    "① Shorten the scope of the training set\n",
    "\n",
    "Since the amount of data in the training set is relatively large, we can reduce the training set to a certain extent according to the coordinate range of the test set"
   ]
  },
  {
   "cell_type": "code",
   "execution_count": 22,
   "id": "64aa29bf",
   "metadata": {},
   "outputs": [
    {
     "name": "stdout",
     "output_type": "stream",
     "text": [
      "-74.263242\n",
      "-72.986532\n",
      "40.568973\n",
      "41.709555\n"
     ]
    }
   ],
   "source": [
    "print(min(test.pickup_longitude.min(),test.dropoff_longitude.min()))\n",
    "print(max(test.pickup_longitude.max(),test.dropoff_longitude.max()))\n",
    "print(min(test.pickup_latitude.min(),test.dropoff_latitude.min()))\n",
    "print(max(test.pickup_latitude.max(),test.dropoff_latitude.max()))"
   ]
  },
  {
   "cell_type": "markdown",
   "id": "8ee2fc6e",
   "metadata": {},
   "source": [
    "-74.2 to -73 as the longitude selection range, 40.5 to 41.8 as the latitude selection range"
   ]
  },
  {
   "cell_type": "code",
   "execution_count": 23,
   "id": "2a345c42",
   "metadata": {},
   "outputs": [],
   "source": [
    "def select_train(df, fw):\n",
    "    return (df.pickup_longitude >= fw[0]) & (df.pickup_longitude <= fw[1]) & \\\n",
    "           (df.pickup_latitude >= fw[2]) & (df.pickup_latitude <= fw[3]) & \\\n",
    "           (df.dropoff_longitude >= fw[0]) & (df.dropoff_longitude <= fw[1]) & \\\n",
    "           (df.dropoff_latitude >= fw[2]) & (df.dropoff_latitude <= fw[3])\n",
    "fw = (-74.2, -73, 40.5, 41.8)\n",
    "train = train[select_train(train, fw)]"
   ]
  },
  {
   "cell_type": "markdown",
   "id": "8dea03b5",
   "metadata": {},
   "source": [
    "②Construct new time characteristics\n",
    "\n",
    "The original time feature is not suitable for our direct use. Considering that taxi prices may increase in different time periods, years and months, we should extract New Year, month, day and hour from the original time feature as new features for our model to use"
   ]
  },
  {
   "cell_type": "code",
   "execution_count": 24,
   "id": "a4c6a736",
   "metadata": {},
   "outputs": [],
   "source": [
    "def deal_time_features(df):\n",
    "    df['pickup_datetime'] = df['pickup_datetime'].str.slice(0, 16)\n",
    "    df['pickup_datetime'] = pd.to_datetime(df['pickup_datetime'], utc=True, format='%Y-%m-%d %H:%M')\n",
    "    df['hour'] = df.pickup_datetime.dt.hour\n",
    "    df['month'] = df.pickup_datetime.dt.month\n",
    "    df[\"year\"] = df.pickup_datetime.dt.year\n",
    "    df[\"weekday\"] = df.pickup_datetime.dt.weekday\n",
    "    return df\n",
    "train = deal_time_features(train)\n",
    "test = deal_time_features(test)"
   ]
  },
  {
   "cell_type": "code",
   "execution_count": 25,
   "id": "960c1c1c",
   "metadata": {},
   "outputs": [
    {
     "data": {
      "text/html": [
       "<div>\n",
       "<style scoped>\n",
       "    .dataframe tbody tr th:only-of-type {\n",
       "        vertical-align: middle;\n",
       "    }\n",
       "\n",
       "    .dataframe tbody tr th {\n",
       "        vertical-align: top;\n",
       "    }\n",
       "\n",
       "    .dataframe thead th {\n",
       "        text-align: right;\n",
       "    }\n",
       "</style>\n",
       "<table border=\"1\" class=\"dataframe\">\n",
       "  <thead>\n",
       "    <tr style=\"text-align: right;\">\n",
       "      <th></th>\n",
       "      <th>key</th>\n",
       "      <th>fare_amount</th>\n",
       "      <th>pickup_datetime</th>\n",
       "      <th>pickup_longitude</th>\n",
       "      <th>pickup_latitude</th>\n",
       "      <th>dropoff_longitude</th>\n",
       "      <th>dropoff_latitude</th>\n",
       "      <th>passenger_count</th>\n",
       "      <th>hour</th>\n",
       "      <th>month</th>\n",
       "      <th>year</th>\n",
       "      <th>weekday</th>\n",
       "    </tr>\n",
       "  </thead>\n",
       "  <tbody>\n",
       "    <tr>\n",
       "      <th>0</th>\n",
       "      <td>2009-06-15 17:26:21.0000001</td>\n",
       "      <td>4.5</td>\n",
       "      <td>2009-06-15 17:26:00+00:00</td>\n",
       "      <td>-73.844311</td>\n",
       "      <td>40.721319</td>\n",
       "      <td>-73.841610</td>\n",
       "      <td>40.712278</td>\n",
       "      <td>1</td>\n",
       "      <td>17</td>\n",
       "      <td>6</td>\n",
       "      <td>2009</td>\n",
       "      <td>0</td>\n",
       "    </tr>\n",
       "    <tr>\n",
       "      <th>1</th>\n",
       "      <td>2010-01-05 16:52:16.0000002</td>\n",
       "      <td>16.9</td>\n",
       "      <td>2010-01-05 16:52:00+00:00</td>\n",
       "      <td>-74.016048</td>\n",
       "      <td>40.711303</td>\n",
       "      <td>-73.979268</td>\n",
       "      <td>40.782004</td>\n",
       "      <td>1</td>\n",
       "      <td>16</td>\n",
       "      <td>1</td>\n",
       "      <td>2010</td>\n",
       "      <td>1</td>\n",
       "    </tr>\n",
       "    <tr>\n",
       "      <th>2</th>\n",
       "      <td>2011-08-18 00:35:00.00000049</td>\n",
       "      <td>5.7</td>\n",
       "      <td>2011-08-18 00:35:00+00:00</td>\n",
       "      <td>-73.982738</td>\n",
       "      <td>40.761270</td>\n",
       "      <td>-73.991242</td>\n",
       "      <td>40.750562</td>\n",
       "      <td>2</td>\n",
       "      <td>0</td>\n",
       "      <td>8</td>\n",
       "      <td>2011</td>\n",
       "      <td>3</td>\n",
       "    </tr>\n",
       "    <tr>\n",
       "      <th>3</th>\n",
       "      <td>2012-04-21 04:30:42.0000001</td>\n",
       "      <td>7.7</td>\n",
       "      <td>2012-04-21 04:30:00+00:00</td>\n",
       "      <td>-73.987130</td>\n",
       "      <td>40.733143</td>\n",
       "      <td>-73.991567</td>\n",
       "      <td>40.758092</td>\n",
       "      <td>1</td>\n",
       "      <td>4</td>\n",
       "      <td>4</td>\n",
       "      <td>2012</td>\n",
       "      <td>5</td>\n",
       "    </tr>\n",
       "    <tr>\n",
       "      <th>4</th>\n",
       "      <td>2010-03-09 07:51:00.000000135</td>\n",
       "      <td>5.3</td>\n",
       "      <td>2010-03-09 07:51:00+00:00</td>\n",
       "      <td>-73.968095</td>\n",
       "      <td>40.768008</td>\n",
       "      <td>-73.956655</td>\n",
       "      <td>40.783762</td>\n",
       "      <td>1</td>\n",
       "      <td>7</td>\n",
       "      <td>3</td>\n",
       "      <td>2010</td>\n",
       "      <td>1</td>\n",
       "    </tr>\n",
       "  </tbody>\n",
       "</table>\n",
       "</div>"
      ],
      "text/plain": [
       "                             key  fare_amount           pickup_datetime  \\\n",
       "0    2009-06-15 17:26:21.0000001          4.5 2009-06-15 17:26:00+00:00   \n",
       "1    2010-01-05 16:52:16.0000002         16.9 2010-01-05 16:52:00+00:00   \n",
       "2   2011-08-18 00:35:00.00000049          5.7 2011-08-18 00:35:00+00:00   \n",
       "3    2012-04-21 04:30:42.0000001          7.7 2012-04-21 04:30:00+00:00   \n",
       "4  2010-03-09 07:51:00.000000135          5.3 2010-03-09 07:51:00+00:00   \n",
       "\n",
       "   pickup_longitude  pickup_latitude  dropoff_longitude  dropoff_latitude  \\\n",
       "0        -73.844311        40.721319         -73.841610         40.712278   \n",
       "1        -74.016048        40.711303         -73.979268         40.782004   \n",
       "2        -73.982738        40.761270         -73.991242         40.750562   \n",
       "3        -73.987130        40.733143         -73.991567         40.758092   \n",
       "4        -73.968095        40.768008         -73.956655         40.783762   \n",
       "\n",
       "   passenger_count  hour  month  year  weekday  \n",
       "0                1    17      6  2009        0  \n",
       "1                1    16      1  2010        1  \n",
       "2                2     0      8  2011        3  \n",
       "3                1     4      4  2012        5  \n",
       "4                1     7      3  2010        1  "
      ]
     },
     "execution_count": 25,
     "metadata": {},
     "output_type": "execute_result"
    }
   ],
   "source": [
    "train.head()"
   ]
  },
  {
   "cell_type": "markdown",
   "id": "c92aa704",
   "metadata": {},
   "source": [
    "The time characteristics after processing are composed of time, month, year and week"
   ]
  },
  {
   "cell_type": "markdown",
   "id": "08b9b33a",
   "metadata": {},
   "source": [
    "③Construct a new distance feature\n",
    "\n",
    "Using the latitude and longitude coordinates directly is not conducive to the operation of our model. We use the conversion formula to convert the latitude and longitude coordinates into distance"
   ]
  },
  {
   "cell_type": "code",
   "execution_count": 26,
   "id": "651418d3",
   "metadata": {},
   "outputs": [
    {
     "data": {
      "text/html": [
       "<div>\n",
       "<style scoped>\n",
       "    .dataframe tbody tr th:only-of-type {\n",
       "        vertical-align: middle;\n",
       "    }\n",
       "\n",
       "    .dataframe tbody tr th {\n",
       "        vertical-align: top;\n",
       "    }\n",
       "\n",
       "    .dataframe thead th {\n",
       "        text-align: right;\n",
       "    }\n",
       "</style>\n",
       "<table border=\"1\" class=\"dataframe\">\n",
       "  <thead>\n",
       "    <tr style=\"text-align: right;\">\n",
       "      <th></th>\n",
       "      <th>key</th>\n",
       "      <th>fare_amount</th>\n",
       "      <th>pickup_datetime</th>\n",
       "      <th>pickup_longitude</th>\n",
       "      <th>pickup_latitude</th>\n",
       "      <th>dropoff_longitude</th>\n",
       "      <th>dropoff_latitude</th>\n",
       "      <th>passenger_count</th>\n",
       "      <th>hour</th>\n",
       "      <th>month</th>\n",
       "      <th>year</th>\n",
       "      <th>weekday</th>\n",
       "      <th>distance_miles</th>\n",
       "    </tr>\n",
       "  </thead>\n",
       "  <tbody>\n",
       "    <tr>\n",
       "      <th>0</th>\n",
       "      <td>2009-06-15 17:26:21.0000001</td>\n",
       "      <td>4.5</td>\n",
       "      <td>2009-06-15 17:26:00+00:00</td>\n",
       "      <td>-73.844311</td>\n",
       "      <td>40.721319</td>\n",
       "      <td>-73.841610</td>\n",
       "      <td>40.712278</td>\n",
       "      <td>1</td>\n",
       "      <td>17</td>\n",
       "      <td>6</td>\n",
       "      <td>2009</td>\n",
       "      <td>0</td>\n",
       "      <td>0.640487</td>\n",
       "    </tr>\n",
       "    <tr>\n",
       "      <th>1</th>\n",
       "      <td>2010-01-05 16:52:16.0000002</td>\n",
       "      <td>16.9</td>\n",
       "      <td>2010-01-05 16:52:00+00:00</td>\n",
       "      <td>-74.016048</td>\n",
       "      <td>40.711303</td>\n",
       "      <td>-73.979268</td>\n",
       "      <td>40.782004</td>\n",
       "      <td>1</td>\n",
       "      <td>16</td>\n",
       "      <td>1</td>\n",
       "      <td>2010</td>\n",
       "      <td>1</td>\n",
       "      <td>5.250670</td>\n",
       "    </tr>\n",
       "    <tr>\n",
       "      <th>2</th>\n",
       "      <td>2011-08-18 00:35:00.00000049</td>\n",
       "      <td>5.7</td>\n",
       "      <td>2011-08-18 00:35:00+00:00</td>\n",
       "      <td>-73.982738</td>\n",
       "      <td>40.761270</td>\n",
       "      <td>-73.991242</td>\n",
       "      <td>40.750562</td>\n",
       "      <td>2</td>\n",
       "      <td>0</td>\n",
       "      <td>8</td>\n",
       "      <td>2011</td>\n",
       "      <td>3</td>\n",
       "      <td>0.863411</td>\n",
       "    </tr>\n",
       "    <tr>\n",
       "      <th>3</th>\n",
       "      <td>2012-04-21 04:30:42.0000001</td>\n",
       "      <td>7.7</td>\n",
       "      <td>2012-04-21 04:30:00+00:00</td>\n",
       "      <td>-73.987130</td>\n",
       "      <td>40.733143</td>\n",
       "      <td>-73.991567</td>\n",
       "      <td>40.758092</td>\n",
       "      <td>1</td>\n",
       "      <td>4</td>\n",
       "      <td>4</td>\n",
       "      <td>2012</td>\n",
       "      <td>5</td>\n",
       "      <td>1.739386</td>\n",
       "    </tr>\n",
       "    <tr>\n",
       "      <th>4</th>\n",
       "      <td>2010-03-09 07:51:00.000000135</td>\n",
       "      <td>5.3</td>\n",
       "      <td>2010-03-09 07:51:00+00:00</td>\n",
       "      <td>-73.968095</td>\n",
       "      <td>40.768008</td>\n",
       "      <td>-73.956655</td>\n",
       "      <td>40.783762</td>\n",
       "      <td>1</td>\n",
       "      <td>7</td>\n",
       "      <td>3</td>\n",
       "      <td>2010</td>\n",
       "      <td>1</td>\n",
       "      <td>1.242218</td>\n",
       "    </tr>\n",
       "  </tbody>\n",
       "</table>\n",
       "</div>"
      ],
      "text/plain": [
       "                             key  fare_amount           pickup_datetime  \\\n",
       "0    2009-06-15 17:26:21.0000001          4.5 2009-06-15 17:26:00+00:00   \n",
       "1    2010-01-05 16:52:16.0000002         16.9 2010-01-05 16:52:00+00:00   \n",
       "2   2011-08-18 00:35:00.00000049          5.7 2011-08-18 00:35:00+00:00   \n",
       "3    2012-04-21 04:30:42.0000001          7.7 2012-04-21 04:30:00+00:00   \n",
       "4  2010-03-09 07:51:00.000000135          5.3 2010-03-09 07:51:00+00:00   \n",
       "\n",
       "   pickup_longitude  pickup_latitude  dropoff_longitude  dropoff_latitude  \\\n",
       "0        -73.844311        40.721319         -73.841610         40.712278   \n",
       "1        -74.016048        40.711303         -73.979268         40.782004   \n",
       "2        -73.982738        40.761270         -73.991242         40.750562   \n",
       "3        -73.987130        40.733143         -73.991567         40.758092   \n",
       "4        -73.968095        40.768008         -73.956655         40.783762   \n",
       "\n",
       "   passenger_count  hour  month  year  weekday  distance_miles  \n",
       "0                1    17      6  2009        0        0.640487  \n",
       "1                1    16      1  2010        1        5.250670  \n",
       "2                2     0      8  2011        3        0.863411  \n",
       "3                1     4      4  2012        5        1.739386  \n",
       "4                1     7      3  2010        1        1.242218  "
      ]
     },
     "execution_count": 26,
     "metadata": {},
     "output_type": "execute_result"
    }
   ],
   "source": [
    "def distance(x1, y1, x2, y2):\n",
    "    p = 0.017453292519943295 \n",
    "    a = 0.5 - np.cos((x2 - x1) * p)/2 + np.cos(x1 * p) * np.cos(x2 * p) * (1 - np.cos((y2 - y1) * p)) / 2\n",
    "    dis = 0.6213712 * 12742 * np.arcsin(np.sqrt(a))\n",
    "    return dis  \n",
    "train['distance_miles'] = distance(train.pickup_latitude,train.pickup_longitude,train.dropoff_latitude,train.dropoff_longitude)\n",
    "test['distance_miles'] = distance(test.pickup_latitude, test.pickup_longitude,test.dropoff_latitude,test.dropoff_longitude)\n",
    "train.head()"
   ]
  },
  {
   "cell_type": "code",
   "execution_count": 27,
   "id": "6daba851",
   "metadata": {},
   "outputs": [
    {
     "data": {
      "text/html": [
       "<div>\n",
       "<style scoped>\n",
       "    .dataframe tbody tr th:only-of-type {\n",
       "        vertical-align: middle;\n",
       "    }\n",
       "\n",
       "    .dataframe tbody tr th {\n",
       "        vertical-align: top;\n",
       "    }\n",
       "\n",
       "    .dataframe thead th {\n",
       "        text-align: right;\n",
       "    }\n",
       "</style>\n",
       "<table border=\"1\" class=\"dataframe\">\n",
       "  <thead>\n",
       "    <tr style=\"text-align: right;\">\n",
       "      <th></th>\n",
       "      <th>key</th>\n",
       "      <th>fare_amount</th>\n",
       "      <th>pickup_datetime</th>\n",
       "      <th>pickup_longitude</th>\n",
       "      <th>pickup_latitude</th>\n",
       "      <th>dropoff_longitude</th>\n",
       "      <th>dropoff_latitude</th>\n",
       "      <th>passenger_count</th>\n",
       "      <th>hour</th>\n",
       "      <th>month</th>\n",
       "      <th>year</th>\n",
       "      <th>weekday</th>\n",
       "      <th>distance_miles</th>\n",
       "    </tr>\n",
       "  </thead>\n",
       "  <tbody>\n",
       "    <tr>\n",
       "      <th>331597</th>\n",
       "      <td>2013-08-05 06:45:54.0000005</td>\n",
       "      <td>0.0</td>\n",
       "      <td>2013-08-05 06:45:00+00:00</td>\n",
       "      <td>-73.982354</td>\n",
       "      <td>40.679971</td>\n",
       "      <td>-73.982354</td>\n",
       "      <td>40.679971</td>\n",
       "      <td>1</td>\n",
       "      <td>6</td>\n",
       "      <td>8</td>\n",
       "      <td>2013</td>\n",
       "      <td>0</td>\n",
       "      <td>0.0</td>\n",
       "    </tr>\n",
       "    <tr>\n",
       "      <th>436658</th>\n",
       "      <td>2015-03-04 22:33:39.0000008</td>\n",
       "      <td>0.0</td>\n",
       "      <td>2015-03-04 22:33:00+00:00</td>\n",
       "      <td>-74.043442</td>\n",
       "      <td>40.788208</td>\n",
       "      <td>-74.043442</td>\n",
       "      <td>40.788208</td>\n",
       "      <td>1</td>\n",
       "      <td>22</td>\n",
       "      <td>3</td>\n",
       "      <td>2015</td>\n",
       "      <td>2</td>\n",
       "      <td>0.0</td>\n",
       "    </tr>\n",
       "    <tr>\n",
       "      <th>689250</th>\n",
       "      <td>2015-05-27 23:10:03.0000004</td>\n",
       "      <td>0.0</td>\n",
       "      <td>2015-05-27 23:10:00+00:00</td>\n",
       "      <td>-73.994125</td>\n",
       "      <td>40.741131</td>\n",
       "      <td>-73.994125</td>\n",
       "      <td>40.741131</td>\n",
       "      <td>1</td>\n",
       "      <td>23</td>\n",
       "      <td>5</td>\n",
       "      <td>2015</td>\n",
       "      <td>2</td>\n",
       "      <td>0.0</td>\n",
       "    </tr>\n",
       "    <tr>\n",
       "      <th>1662545</th>\n",
       "      <td>2010-03-13 02:39:29.0000001</td>\n",
       "      <td>0.0</td>\n",
       "      <td>2010-03-13 02:39:00+00:00</td>\n",
       "      <td>-74.035278</td>\n",
       "      <td>40.738683</td>\n",
       "      <td>-74.035278</td>\n",
       "      <td>40.738683</td>\n",
       "      <td>2</td>\n",
       "      <td>2</td>\n",
       "      <td>3</td>\n",
       "      <td>2010</td>\n",
       "      <td>5</td>\n",
       "      <td>0.0</td>\n",
       "    </tr>\n",
       "    <tr>\n",
       "      <th>2214498</th>\n",
       "      <td>2010-02-03 11:44:07.0000002</td>\n",
       "      <td>0.0</td>\n",
       "      <td>2010-02-03 11:44:00+00:00</td>\n",
       "      <td>-74.014147</td>\n",
       "      <td>40.710546</td>\n",
       "      <td>-74.014147</td>\n",
       "      <td>40.710546</td>\n",
       "      <td>1</td>\n",
       "      <td>11</td>\n",
       "      <td>2</td>\n",
       "      <td>2010</td>\n",
       "      <td>2</td>\n",
       "      <td>0.0</td>\n",
       "    </tr>\n",
       "    <tr>\n",
       "      <th>2329503</th>\n",
       "      <td>2015-02-19 09:43:11.0000007</td>\n",
       "      <td>0.0</td>\n",
       "      <td>2015-02-19 09:43:00+00:00</td>\n",
       "      <td>-73.953857</td>\n",
       "      <td>40.813251</td>\n",
       "      <td>-73.953857</td>\n",
       "      <td>40.813251</td>\n",
       "      <td>1</td>\n",
       "      <td>9</td>\n",
       "      <td>2</td>\n",
       "      <td>2015</td>\n",
       "      <td>3</td>\n",
       "      <td>0.0</td>\n",
       "    </tr>\n",
       "    <tr>\n",
       "      <th>2581417</th>\n",
       "      <td>2015-05-07 19:12:43.0000005</td>\n",
       "      <td>0.0</td>\n",
       "      <td>2015-05-07 19:12:00+00:00</td>\n",
       "      <td>-73.913727</td>\n",
       "      <td>40.779018</td>\n",
       "      <td>-73.913727</td>\n",
       "      <td>40.779018</td>\n",
       "      <td>1</td>\n",
       "      <td>19</td>\n",
       "      <td>5</td>\n",
       "      <td>2015</td>\n",
       "      <td>3</td>\n",
       "      <td>0.0</td>\n",
       "    </tr>\n",
       "    <tr>\n",
       "      <th>3070651</th>\n",
       "      <td>2015-01-25 20:54:02.0000004</td>\n",
       "      <td>0.0</td>\n",
       "      <td>2015-01-25 20:54:00+00:00</td>\n",
       "      <td>-73.981293</td>\n",
       "      <td>40.769012</td>\n",
       "      <td>-73.981293</td>\n",
       "      <td>40.769012</td>\n",
       "      <td>1</td>\n",
       "      <td>20</td>\n",
       "      <td>1</td>\n",
       "      <td>2015</td>\n",
       "      <td>6</td>\n",
       "      <td>0.0</td>\n",
       "    </tr>\n",
       "    <tr>\n",
       "      <th>3252539</th>\n",
       "      <td>2015-01-14 10:15:51.0000002</td>\n",
       "      <td>0.0</td>\n",
       "      <td>2015-01-14 10:15:00+00:00</td>\n",
       "      <td>-73.937508</td>\n",
       "      <td>40.758129</td>\n",
       "      <td>-73.937508</td>\n",
       "      <td>40.758129</td>\n",
       "      <td>1</td>\n",
       "      <td>10</td>\n",
       "      <td>1</td>\n",
       "      <td>2015</td>\n",
       "      <td>2</td>\n",
       "      <td>0.0</td>\n",
       "    </tr>\n",
       "    <tr>\n",
       "      <th>3712453</th>\n",
       "      <td>2010-03-29 12:47:22.0000005</td>\n",
       "      <td>0.0</td>\n",
       "      <td>2010-03-29 12:47:00+00:00</td>\n",
       "      <td>-73.836776</td>\n",
       "      <td>40.869879</td>\n",
       "      <td>-73.836776</td>\n",
       "      <td>40.869879</td>\n",
       "      <td>1</td>\n",
       "      <td>12</td>\n",
       "      <td>3</td>\n",
       "      <td>2010</td>\n",
       "      <td>0</td>\n",
       "      <td>0.0</td>\n",
       "    </tr>\n",
       "    <tr>\n",
       "      <th>4191567</th>\n",
       "      <td>2010-02-22 01:02:16.0000002</td>\n",
       "      <td>0.0</td>\n",
       "      <td>2010-02-22 01:02:00+00:00</td>\n",
       "      <td>-73.981984</td>\n",
       "      <td>40.757467</td>\n",
       "      <td>-73.981984</td>\n",
       "      <td>40.757467</td>\n",
       "      <td>1</td>\n",
       "      <td>1</td>\n",
       "      <td>2</td>\n",
       "      <td>2010</td>\n",
       "      <td>0</td>\n",
       "      <td>0.0</td>\n",
       "    </tr>\n",
       "    <tr>\n",
       "      <th>4307073</th>\n",
       "      <td>2010-02-13 00:30:23.0000001</td>\n",
       "      <td>0.0</td>\n",
       "      <td>2010-02-13 00:30:00+00:00</td>\n",
       "      <td>-73.968945</td>\n",
       "      <td>40.764540</td>\n",
       "      <td>-73.968945</td>\n",
       "      <td>40.764540</td>\n",
       "      <td>1</td>\n",
       "      <td>0</td>\n",
       "      <td>2</td>\n",
       "      <td>2010</td>\n",
       "      <td>5</td>\n",
       "      <td>0.0</td>\n",
       "    </tr>\n",
       "    <tr>\n",
       "      <th>4377466</th>\n",
       "      <td>2015-01-16 14:56:36.0000004</td>\n",
       "      <td>0.0</td>\n",
       "      <td>2015-01-16 14:56:00+00:00</td>\n",
       "      <td>-73.937531</td>\n",
       "      <td>40.758289</td>\n",
       "      <td>-73.937531</td>\n",
       "      <td>40.758289</td>\n",
       "      <td>1</td>\n",
       "      <td>14</td>\n",
       "      <td>1</td>\n",
       "      <td>2015</td>\n",
       "      <td>4</td>\n",
       "      <td>0.0</td>\n",
       "    </tr>\n",
       "    <tr>\n",
       "      <th>4819787</th>\n",
       "      <td>2015-02-18 06:47:03.0000002</td>\n",
       "      <td>0.0</td>\n",
       "      <td>2015-02-18 06:47:00+00:00</td>\n",
       "      <td>-73.937820</td>\n",
       "      <td>40.758190</td>\n",
       "      <td>-73.937820</td>\n",
       "      <td>40.758190</td>\n",
       "      <td>1</td>\n",
       "      <td>6</td>\n",
       "      <td>2</td>\n",
       "      <td>2015</td>\n",
       "      <td>2</td>\n",
       "      <td>0.0</td>\n",
       "    </tr>\n",
       "    <tr>\n",
       "      <th>4851000</th>\n",
       "      <td>2010-02-10 20:18:01.0000002</td>\n",
       "      <td>0.0</td>\n",
       "      <td>2010-02-10 20:18:00+00:00</td>\n",
       "      <td>-74.003095</td>\n",
       "      <td>40.743403</td>\n",
       "      <td>-74.003095</td>\n",
       "      <td>40.743403</td>\n",
       "      <td>1</td>\n",
       "      <td>20</td>\n",
       "      <td>2</td>\n",
       "      <td>2010</td>\n",
       "      <td>2</td>\n",
       "      <td>0.0</td>\n",
       "    </tr>\n",
       "  </tbody>\n",
       "</table>\n",
       "</div>"
      ],
      "text/plain": [
       "                                 key  fare_amount           pickup_datetime  \\\n",
       "331597   2013-08-05 06:45:54.0000005          0.0 2013-08-05 06:45:00+00:00   \n",
       "436658   2015-03-04 22:33:39.0000008          0.0 2015-03-04 22:33:00+00:00   \n",
       "689250   2015-05-27 23:10:03.0000004          0.0 2015-05-27 23:10:00+00:00   \n",
       "1662545  2010-03-13 02:39:29.0000001          0.0 2010-03-13 02:39:00+00:00   \n",
       "2214498  2010-02-03 11:44:07.0000002          0.0 2010-02-03 11:44:00+00:00   \n",
       "2329503  2015-02-19 09:43:11.0000007          0.0 2015-02-19 09:43:00+00:00   \n",
       "2581417  2015-05-07 19:12:43.0000005          0.0 2015-05-07 19:12:00+00:00   \n",
       "3070651  2015-01-25 20:54:02.0000004          0.0 2015-01-25 20:54:00+00:00   \n",
       "3252539  2015-01-14 10:15:51.0000002          0.0 2015-01-14 10:15:00+00:00   \n",
       "3712453  2010-03-29 12:47:22.0000005          0.0 2010-03-29 12:47:00+00:00   \n",
       "4191567  2010-02-22 01:02:16.0000002          0.0 2010-02-22 01:02:00+00:00   \n",
       "4307073  2010-02-13 00:30:23.0000001          0.0 2010-02-13 00:30:00+00:00   \n",
       "4377466  2015-01-16 14:56:36.0000004          0.0 2015-01-16 14:56:00+00:00   \n",
       "4819787  2015-02-18 06:47:03.0000002          0.0 2015-02-18 06:47:00+00:00   \n",
       "4851000  2010-02-10 20:18:01.0000002          0.0 2010-02-10 20:18:00+00:00   \n",
       "\n",
       "         pickup_longitude  pickup_latitude  dropoff_longitude  \\\n",
       "331597         -73.982354        40.679971         -73.982354   \n",
       "436658         -74.043442        40.788208         -74.043442   \n",
       "689250         -73.994125        40.741131         -73.994125   \n",
       "1662545        -74.035278        40.738683         -74.035278   \n",
       "2214498        -74.014147        40.710546         -74.014147   \n",
       "2329503        -73.953857        40.813251         -73.953857   \n",
       "2581417        -73.913727        40.779018         -73.913727   \n",
       "3070651        -73.981293        40.769012         -73.981293   \n",
       "3252539        -73.937508        40.758129         -73.937508   \n",
       "3712453        -73.836776        40.869879         -73.836776   \n",
       "4191567        -73.981984        40.757467         -73.981984   \n",
       "4307073        -73.968945        40.764540         -73.968945   \n",
       "4377466        -73.937531        40.758289         -73.937531   \n",
       "4819787        -73.937820        40.758190         -73.937820   \n",
       "4851000        -74.003095        40.743403         -74.003095   \n",
       "\n",
       "         dropoff_latitude  passenger_count  hour  month  year  weekday  \\\n",
       "331597          40.679971                1     6      8  2013        0   \n",
       "436658          40.788208                1    22      3  2015        2   \n",
       "689250          40.741131                1    23      5  2015        2   \n",
       "1662545         40.738683                2     2      3  2010        5   \n",
       "2214498         40.710546                1    11      2  2010        2   \n",
       "2329503         40.813251                1     9      2  2015        3   \n",
       "2581417         40.779018                1    19      5  2015        3   \n",
       "3070651         40.769012                1    20      1  2015        6   \n",
       "3252539         40.758129                1    10      1  2015        2   \n",
       "3712453         40.869879                1    12      3  2010        0   \n",
       "4191567         40.757467                1     1      2  2010        0   \n",
       "4307073         40.764540                1     0      2  2010        5   \n",
       "4377466         40.758289                1    14      1  2015        4   \n",
       "4819787         40.758190                1     6      2  2015        2   \n",
       "4851000         40.743403                1    20      2  2010        2   \n",
       "\n",
       "         distance_miles  \n",
       "331597              0.0  \n",
       "436658              0.0  \n",
       "689250              0.0  \n",
       "1662545             0.0  \n",
       "2214498             0.0  \n",
       "2329503             0.0  \n",
       "2581417             0.0  \n",
       "3070651             0.0  \n",
       "3252539             0.0  \n",
       "3712453             0.0  \n",
       "4191567             0.0  \n",
       "4307073             0.0  \n",
       "4377466             0.0  \n",
       "4819787             0.0  \n",
       "4851000             0.0  "
      ]
     },
     "execution_count": 27,
     "metadata": {},
     "output_type": "execute_result"
    }
   ],
   "source": [
    "train[(train['distance_miles']==0)&(train['fare_amount']==0)]"
   ]
  },
  {
   "cell_type": "markdown",
   "id": "0b10b284",
   "metadata": {},
   "source": [
    "There are some useless data with distance and price of 0 that can be deleted"
   ]
  },
  {
   "cell_type": "code",
   "execution_count": 28,
   "id": "ef1e09c4",
   "metadata": {},
   "outputs": [],
   "source": [
    "train = train.drop(index= train[(train['distance_miles']==0)&(train['fare_amount']==0)].index, axis=0)"
   ]
  },
  {
   "cell_type": "markdown",
   "id": "e3560555",
   "metadata": {},
   "source": [
    "④Special treatment"
   ]
  },
  {
   "cell_type": "markdown",
   "id": "36fdf6fd",
   "metadata": {},
   "source": [
    "1. Delete the data whose fare_amount is less than 2.5, because the starting price of New York taxis is $2.5"
   ]
  },
  {
   "cell_type": "code",
   "execution_count": 29,
   "id": "f7aa7087",
   "metadata": {},
   "outputs": [],
   "source": [
    "train = train.drop(index= train[train['fare_amount'] < 2.5].index, axis=0)"
   ]
  },
  {
   "cell_type": "markdown",
   "id": "48617402",
   "metadata": {},
   "source": [
    "2. Remove data with more than 7 people"
   ]
  },
  {
   "cell_type": "code",
   "execution_count": 31,
   "id": "3e17c395",
   "metadata": {},
   "outputs": [],
   "source": [
    "train = train.drop(index= train[train.passenger_count >= 7].index, axis=0)"
   ]
  },
  {
   "cell_type": "markdown",
   "id": "42bfe2f6",
   "metadata": {},
   "source": [
    "# Part4. Data Modeling"
   ]
  },
  {
   "cell_type": "code",
   "execution_count": 32,
   "id": "c8b63d9e",
   "metadata": {},
   "outputs": [
    {
     "data": {
      "text/html": [
       "<div>\n",
       "<style scoped>\n",
       "    .dataframe tbody tr th:only-of-type {\n",
       "        vertical-align: middle;\n",
       "    }\n",
       "\n",
       "    .dataframe tbody tr th {\n",
       "        vertical-align: top;\n",
       "    }\n",
       "\n",
       "    .dataframe thead th {\n",
       "        text-align: right;\n",
       "    }\n",
       "</style>\n",
       "<table border=\"1\" class=\"dataframe\">\n",
       "  <thead>\n",
       "    <tr style=\"text-align: right;\">\n",
       "      <th></th>\n",
       "      <th>count</th>\n",
       "      <th>mean</th>\n",
       "      <th>std</th>\n",
       "      <th>min</th>\n",
       "      <th>25%</th>\n",
       "      <th>50%</th>\n",
       "      <th>75%</th>\n",
       "      <th>max</th>\n",
       "    </tr>\n",
       "  </thead>\n",
       "  <tbody>\n",
       "    <tr>\n",
       "      <th>fare_amount</th>\n",
       "      <td>4892420.0</td>\n",
       "      <td>11.312971</td>\n",
       "      <td>9.638960</td>\n",
       "      <td>2.500000</td>\n",
       "      <td>6.000000</td>\n",
       "      <td>8.500000</td>\n",
       "      <td>12.500000</td>\n",
       "      <td>952.000000</td>\n",
       "    </tr>\n",
       "    <tr>\n",
       "      <th>pickup_longitude</th>\n",
       "      <td>4892420.0</td>\n",
       "      <td>-73.975100</td>\n",
       "      <td>0.038247</td>\n",
       "      <td>-74.199930</td>\n",
       "      <td>-73.992266</td>\n",
       "      <td>-73.982098</td>\n",
       "      <td>-73.968328</td>\n",
       "      <td>-73.011752</td>\n",
       "    </tr>\n",
       "    <tr>\n",
       "      <th>pickup_latitude</th>\n",
       "      <td>4892420.0</td>\n",
       "      <td>40.751090</td>\n",
       "      <td>0.029507</td>\n",
       "      <td>40.500247</td>\n",
       "      <td>40.736565</td>\n",
       "      <td>40.753360</td>\n",
       "      <td>40.767544</td>\n",
       "      <td>41.696852</td>\n",
       "    </tr>\n",
       "    <tr>\n",
       "      <th>dropoff_longitude</th>\n",
       "      <td>4892420.0</td>\n",
       "      <td>-73.974230</td>\n",
       "      <td>0.037324</td>\n",
       "      <td>-74.199810</td>\n",
       "      <td>-73.991573</td>\n",
       "      <td>-73.980605</td>\n",
       "      <td>-73.965352</td>\n",
       "      <td>-73.011777</td>\n",
       "    </tr>\n",
       "    <tr>\n",
       "      <th>dropoff_latitude</th>\n",
       "      <td>4892420.0</td>\n",
       "      <td>40.751462</td>\n",
       "      <td>0.032694</td>\n",
       "      <td>40.500287</td>\n",
       "      <td>40.735613</td>\n",
       "      <td>40.753866</td>\n",
       "      <td>40.768405</td>\n",
       "      <td>41.691258</td>\n",
       "    </tr>\n",
       "    <tr>\n",
       "      <th>passenger_count</th>\n",
       "      <td>4892420.0</td>\n",
       "      <td>1.684419</td>\n",
       "      <td>1.307596</td>\n",
       "      <td>0.000000</td>\n",
       "      <td>1.000000</td>\n",
       "      <td>1.000000</td>\n",
       "      <td>2.000000</td>\n",
       "      <td>6.000000</td>\n",
       "    </tr>\n",
       "    <tr>\n",
       "      <th>hour</th>\n",
       "      <td>4892420.0</td>\n",
       "      <td>13.511185</td>\n",
       "      <td>6.514870</td>\n",
       "      <td>0.000000</td>\n",
       "      <td>9.000000</td>\n",
       "      <td>14.000000</td>\n",
       "      <td>19.000000</td>\n",
       "      <td>23.000000</td>\n",
       "    </tr>\n",
       "    <tr>\n",
       "      <th>month</th>\n",
       "      <td>4892420.0</td>\n",
       "      <td>6.268705</td>\n",
       "      <td>3.436544</td>\n",
       "      <td>1.000000</td>\n",
       "      <td>3.000000</td>\n",
       "      <td>6.000000</td>\n",
       "      <td>9.000000</td>\n",
       "      <td>12.000000</td>\n",
       "    </tr>\n",
       "    <tr>\n",
       "      <th>year</th>\n",
       "      <td>4892420.0</td>\n",
       "      <td>2011.736353</td>\n",
       "      <td>1.863041</td>\n",
       "      <td>2009.000000</td>\n",
       "      <td>2010.000000</td>\n",
       "      <td>2012.000000</td>\n",
       "      <td>2013.000000</td>\n",
       "      <td>2015.000000</td>\n",
       "    </tr>\n",
       "    <tr>\n",
       "      <th>weekday</th>\n",
       "      <td>4892420.0</td>\n",
       "      <td>3.041595</td>\n",
       "      <td>1.949410</td>\n",
       "      <td>0.000000</td>\n",
       "      <td>1.000000</td>\n",
       "      <td>3.000000</td>\n",
       "      <td>5.000000</td>\n",
       "      <td>6.000000</td>\n",
       "    </tr>\n",
       "    <tr>\n",
       "      <th>distance_miles</th>\n",
       "      <td>4892420.0</td>\n",
       "      <td>2.066220</td>\n",
       "      <td>2.337795</td>\n",
       "      <td>0.000000</td>\n",
       "      <td>0.778805</td>\n",
       "      <td>1.337147</td>\n",
       "      <td>2.428715</td>\n",
       "      <td>71.828272</td>\n",
       "    </tr>\n",
       "  </tbody>\n",
       "</table>\n",
       "</div>"
      ],
      "text/plain": [
       "                       count         mean       std          min          25%  \\\n",
       "fare_amount        4892420.0    11.312971  9.638960     2.500000     6.000000   \n",
       "pickup_longitude   4892420.0   -73.975100  0.038247   -74.199930   -73.992266   \n",
       "pickup_latitude    4892420.0    40.751090  0.029507    40.500247    40.736565   \n",
       "dropoff_longitude  4892420.0   -73.974230  0.037324   -74.199810   -73.991573   \n",
       "dropoff_latitude   4892420.0    40.751462  0.032694    40.500287    40.735613   \n",
       "passenger_count    4892420.0     1.684419  1.307596     0.000000     1.000000   \n",
       "hour               4892420.0    13.511185  6.514870     0.000000     9.000000   \n",
       "month              4892420.0     6.268705  3.436544     1.000000     3.000000   \n",
       "year               4892420.0  2011.736353  1.863041  2009.000000  2010.000000   \n",
       "weekday            4892420.0     3.041595  1.949410     0.000000     1.000000   \n",
       "distance_miles     4892420.0     2.066220  2.337795     0.000000     0.778805   \n",
       "\n",
       "                           50%          75%          max  \n",
       "fare_amount           8.500000    12.500000   952.000000  \n",
       "pickup_longitude    -73.982098   -73.968328   -73.011752  \n",
       "pickup_latitude      40.753360    40.767544    41.696852  \n",
       "dropoff_longitude   -73.980605   -73.965352   -73.011777  \n",
       "dropoff_latitude     40.753866    40.768405    41.691258  \n",
       "passenger_count       1.000000     2.000000     6.000000  \n",
       "hour                 14.000000    19.000000    23.000000  \n",
       "month                 6.000000     9.000000    12.000000  \n",
       "year               2012.000000  2013.000000  2015.000000  \n",
       "weekday               3.000000     5.000000     6.000000  \n",
       "distance_miles        1.337147     2.428715    71.828272  "
      ]
     },
     "execution_count": 32,
     "metadata": {},
     "output_type": "execute_result"
    }
   ],
   "source": [
    "train.describe().T"
   ]
  },
  {
   "cell_type": "markdown",
   "id": "7a7234e6",
   "metadata": {},
   "source": [
    "Use the.corr interface to see how these new features relate to price"
   ]
  },
  {
   "cell_type": "code",
   "execution_count": 33,
   "id": "f46aa8ce",
   "metadata": {},
   "outputs": [
    {
     "data": {
      "text/plain": [
       "fare_amount          1.000000\n",
       "pickup_longitude     0.388246\n",
       "pickup_latitude     -0.191144\n",
       "dropoff_longitude    0.297366\n",
       "dropoff_latitude    -0.153060\n",
       "passenger_count      0.014463\n",
       "hour                -0.017195\n",
       "month                0.024744\n",
       "year                 0.116739\n",
       "weekday              0.003193\n",
       "distance_miles       0.821040\n",
       "Name: fare_amount, dtype: float64"
      ]
     },
     "execution_count": 33,
     "metadata": {},
     "output_type": "execute_result"
    }
   ],
   "source": [
    "train.corr()['fare_amount']"
   ]
  },
  {
   "cell_type": "code",
   "execution_count": 35,
   "id": "eb0e5fa7",
   "metadata": {},
   "outputs": [
    {
     "name": "stdout",
     "output_type": "stream",
     "text": [
      "[19:27:09] WARNING: C:/Users/Administrator/workspace/xgboost-win64_release_1.4.0/src/objective/regression_obj.cu:171: reg:linear is now deprecated in favor of reg:squarederror.\n",
      "[19:27:10] WARNING: C:/Users/Administrator/workspace/xgboost-win64_release_1.4.0/src/learner.cc:573: \n",
      "Parameters: { \"silent\" } might not be used.\n",
      "\n",
      "  This may not be accurate due to some parameters are only used in language bindings but\n",
      "  passed down to XGBoost core.  Or some parameters are not used but slip through this\n",
      "  verification. Please open an issue if you find above cases.\n",
      "\n",
      "\n",
      "[0]\ttest-rmse:10.53876\n",
      "[1]\ttest-rmse:8.08184\n",
      "[2]\ttest-rmse:6.34169\n",
      "[3]\ttest-rmse:5.25942\n",
      "[4]\ttest-rmse:4.62591\n",
      "[5]\ttest-rmse:4.26787\n",
      "[6]\ttest-rmse:4.06781\n",
      "[7]\ttest-rmse:3.95366\n",
      "[8]\ttest-rmse:3.89145\n",
      "[9]\ttest-rmse:3.83950\n",
      "[10]\ttest-rmse:3.80946\n",
      "[11]\ttest-rmse:3.78975\n",
      "[12]\ttest-rmse:3.77556\n",
      "[13]\ttest-rmse:3.76106\n",
      "[14]\ttest-rmse:3.74642\n",
      "[15]\ttest-rmse:3.74033\n",
      "[16]\ttest-rmse:3.73627\n",
      "[17]\ttest-rmse:3.72949\n",
      "[18]\ttest-rmse:3.71861\n",
      "[19]\ttest-rmse:3.71529\n",
      "[20]\ttest-rmse:3.71028\n",
      "[21]\ttest-rmse:3.70373\n",
      "[22]\ttest-rmse:3.69829\n",
      "[23]\ttest-rmse:3.68629\n",
      "[24]\ttest-rmse:3.68427\n",
      "[25]\ttest-rmse:3.68138\n",
      "[26]\ttest-rmse:3.68031\n",
      "[27]\ttest-rmse:3.67170\n",
      "[28]\ttest-rmse:3.65706\n",
      "[29]\ttest-rmse:3.65534\n",
      "[30]\ttest-rmse:3.65048\n",
      "[31]\ttest-rmse:3.64782\n",
      "[32]\ttest-rmse:3.64817\n",
      "[33]\ttest-rmse:3.64726\n",
      "[34]\ttest-rmse:3.64640\n",
      "[35]\ttest-rmse:3.64513\n",
      "[36]\ttest-rmse:3.63420\n",
      "[37]\ttest-rmse:3.63160\n",
      "[38]\ttest-rmse:3.63117\n",
      "[39]\ttest-rmse:3.62757\n",
      "[40]\ttest-rmse:3.62165\n",
      "[41]\ttest-rmse:3.62211\n",
      "[42]\ttest-rmse:3.62110\n",
      "[43]\ttest-rmse:3.61805\n",
      "[44]\ttest-rmse:3.61608\n",
      "[45]\ttest-rmse:3.61181\n",
      "[46]\ttest-rmse:3.61064\n",
      "[47]\ttest-rmse:3.61010\n",
      "[48]\ttest-rmse:3.60908\n",
      "[49]\ttest-rmse:3.60807\n",
      "[50]\ttest-rmse:3.60660\n",
      "[51]\ttest-rmse:3.60626\n",
      "[52]\ttest-rmse:3.59977\n",
      "[53]\ttest-rmse:3.59836\n",
      "[54]\ttest-rmse:3.59685\n",
      "[55]\ttest-rmse:3.59692\n",
      "[56]\ttest-rmse:3.59712\n",
      "[57]\ttest-rmse:3.59543\n",
      "[58]\ttest-rmse:3.59395\n",
      "[59]\ttest-rmse:3.59233\n",
      "[60]\ttest-rmse:3.59100\n",
      "[61]\ttest-rmse:3.59106\n",
      "[62]\ttest-rmse:3.59159\n",
      "[63]\ttest-rmse:3.58957\n",
      "[64]\ttest-rmse:3.58863\n",
      "[65]\ttest-rmse:3.58653\n",
      "[66]\ttest-rmse:3.58482\n",
      "[67]\ttest-rmse:3.57772\n",
      "[68]\ttest-rmse:3.57816\n",
      "[69]\ttest-rmse:3.57432\n",
      "[70]\ttest-rmse:3.57278\n",
      "[71]\ttest-rmse:3.57201\n",
      "[72]\ttest-rmse:3.57103\n",
      "[73]\ttest-rmse:3.56990\n",
      "[74]\ttest-rmse:3.57017\n",
      "[75]\ttest-rmse:3.57062\n",
      "[76]\ttest-rmse:3.56839\n",
      "[77]\ttest-rmse:3.56281\n",
      "[78]\ttest-rmse:3.56389\n",
      "[79]\ttest-rmse:3.56332\n",
      "[80]\ttest-rmse:3.56276\n",
      "[81]\ttest-rmse:3.56277\n",
      "[82]\ttest-rmse:3.56239\n",
      "[83]\ttest-rmse:3.56260\n",
      "[84]\ttest-rmse:3.56167\n",
      "[85]\ttest-rmse:3.55941\n",
      "[86]\ttest-rmse:3.55927\n",
      "[87]\ttest-rmse:3.55876\n",
      "[88]\ttest-rmse:3.55870\n",
      "[89]\ttest-rmse:3.55834\n",
      "[90]\ttest-rmse:3.55849\n",
      "[91]\ttest-rmse:3.55865\n",
      "[92]\ttest-rmse:3.55845\n",
      "[93]\ttest-rmse:3.55709\n",
      "[94]\ttest-rmse:3.55706\n",
      "[95]\ttest-rmse:3.55541\n",
      "[96]\ttest-rmse:3.55613\n",
      "[97]\ttest-rmse:3.55581\n",
      "[98]\ttest-rmse:3.55640\n",
      "[99]\ttest-rmse:3.55464\n",
      "[100]\ttest-rmse:3.55398\n",
      "[101]\ttest-rmse:3.55364\n",
      "[102]\ttest-rmse:3.55339\n",
      "[103]\ttest-rmse:3.55370\n",
      "[104]\ttest-rmse:3.55228\n",
      "[105]\ttest-rmse:3.55213\n",
      "[106]\ttest-rmse:3.55158\n",
      "[107]\ttest-rmse:3.55137\n",
      "[108]\ttest-rmse:3.55094\n",
      "[109]\ttest-rmse:3.55017\n",
      "[110]\ttest-rmse:3.54996\n",
      "[111]\ttest-rmse:3.54933\n",
      "[112]\ttest-rmse:3.54752\n",
      "[113]\ttest-rmse:3.54700\n",
      "[114]\ttest-rmse:3.54674\n",
      "[115]\ttest-rmse:3.54512\n",
      "[116]\ttest-rmse:3.54369\n",
      "[117]\ttest-rmse:3.54357\n",
      "[118]\ttest-rmse:3.54330\n",
      "[119]\ttest-rmse:3.54341\n",
      "[120]\ttest-rmse:3.54182\n",
      "[121]\ttest-rmse:3.54214\n",
      "[122]\ttest-rmse:3.54239\n",
      "[123]\ttest-rmse:3.54224\n",
      "[124]\ttest-rmse:3.54218\n",
      "[125]\ttest-rmse:3.54176\n",
      "[126]\ttest-rmse:3.54157\n",
      "[127]\ttest-rmse:3.54132\n",
      "[128]\ttest-rmse:3.54156\n",
      "[129]\ttest-rmse:3.54151\n",
      "[130]\ttest-rmse:3.54161\n",
      "[131]\ttest-rmse:3.54167\n",
      "[132]\ttest-rmse:3.54153\n",
      "[133]\ttest-rmse:3.54083\n",
      "[134]\ttest-rmse:3.54082\n",
      "[135]\ttest-rmse:3.54154\n",
      "[136]\ttest-rmse:3.54236\n",
      "[137]\ttest-rmse:3.54218\n",
      "[138]\ttest-rmse:3.54230\n",
      "[139]\ttest-rmse:3.54241\n",
      "[140]\ttest-rmse:3.54184\n",
      "[141]\ttest-rmse:3.54173\n",
      "[142]\ttest-rmse:3.54184\n",
      "[143]\ttest-rmse:3.54148\n"
     ]
    }
   ],
   "source": [
    "df_train = train.drop(columns= ['key','pickup_datetime'], axis= 1).copy()\n",
    "df_test = test.drop(columns= ['key','pickup_datetime'], axis= 1).copy()\n",
    "#The copied data is used for modeling\n",
    "\n",
    "\n",
    "from sklearn.model_selection import train_test_split \n",
    "X_train, X_test, y_train, y_test = train_test_split(df_train.drop('fare_amount',axis=1)\n",
    "                                                    ,df_train['fare_amount']\n",
    "                                                    ,test_size=0.2\n",
    "                                                    ,random_state = 42)\n",
    "\n",
    "\n",
    "\n",
    "import xgboost as xgb\n",
    "params = { \n",
    "    'max_depth': 7,\n",
    "    'gamma' :0,\n",
    "    'eta':0.3, \n",
    "    'subsample': 1,\n",
    "    'colsample_bytree': 0.9, \n",
    "    'objective':'reg:linear',\n",
    "    'eval_metric':'rmse',\n",
    "    'silent': 0\n",
    "}\n",
    "def XGBmodel(X_train,X_test,y_train,y_test,params):\n",
    "    matrix_train = xgb.DMatrix(X_train,label=y_train)\n",
    "    matrix_test = xgb.DMatrix(X_test,label=y_test)\n",
    "    model=xgb.train(params=params,\n",
    "                    dtrain=matrix_train,\n",
    "                    num_boost_round=5000, \n",
    "                    early_stopping_rounds=10,\n",
    "                    evals=[(matrix_test,'test')])\n",
    "    return model\n",
    "\n",
    "model = XGBmodel(X_train,X_test,y_train,y_test,params)\n"
   ]
  },
  {
   "cell_type": "code",
   "execution_count": 36,
   "id": "ecc67ce6",
   "metadata": {},
   "outputs": [
    {
     "name": "stderr",
     "output_type": "stream",
     "text": [
      "d:\\program files\\python39\\lib\\site-packages\\xgboost\\core.py:101: UserWarning: ntree_limit is deprecated, use `iteration_range` or model slicing instead.\n",
      "  warnings.warn(\n"
     ]
    },
    {
     "data": {
      "text/plain": [
       "array([ 9.460388, 10.778619,  4.786408, ..., 53.115017, 18.643826,\n",
       "        6.759039], dtype=float32)"
      ]
     },
     "execution_count": 36,
     "metadata": {},
     "output_type": "execute_result"
    }
   ],
   "source": [
    "prediction = model.predict(xgb.DMatrix(df_test), ntree_limit = model.best_ntree_limit)\n",
    "prediction"
   ]
  },
  {
   "cell_type": "code",
   "execution_count": 37,
   "id": "cd2cc116",
   "metadata": {},
   "outputs": [],
   "source": [
    "res = pd.DataFrame()\n",
    "res['key'] = test_ids\n",
    "res['fare_amount'] = prediction\n",
    "res.to_csv('submission.csv', index=False)"
   ]
  },
  {
   "cell_type": "code",
   "execution_count": null,
   "id": "7e206e29",
   "metadata": {},
   "outputs": [],
   "source": []
  }
 ],
 "metadata": {
  "kernelspec": {
   "display_name": "Python 3 (ipykernel)",
   "language": "python",
   "name": "python3"
  },
  "language_info": {
   "codemirror_mode": {
    "name": "ipython",
    "version": 3
   },
   "file_extension": ".py",
   "mimetype": "text/x-python",
   "name": "python",
   "nbconvert_exporter": "python",
   "pygments_lexer": "ipython3",
   "version": "3.9.6"
  }
 },
 "nbformat": 4,
 "nbformat_minor": 5
}
